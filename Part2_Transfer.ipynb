{
  "cells": [
    {
      "cell_type": "code",
      "execution_count": 32,
      "metadata": {
        "colab": {
          "base_uri": "https://localhost:8080/"
        },
        "id": "PYE17cGAyHb3",
        "outputId": "9e7542bf-3951-42f0-8927-4507b8440fe6"
      },
      "outputs": [
        {
          "name": "stdout",
          "output_type": "stream",
          "text": [
            "Drive already mounted at /content/drive; to attempt to forcibly remount, call drive.mount(\"/content/drive\", force_remount=True).\n"
          ]
        }
      ],
      "source": [
        "import pandas as pd\n",
        "from keras.preprocessing.text import Tokenizer\n",
        "from tensorflow.keras.preprocessing.sequence import pad_sequences\n",
        "from keras.utils import to_categorical\n",
        "from sklearn.model_selection import train_test_split\n",
        "from keras.models import Sequential\n",
        "from keras.layers import Embedding, LSTM, Dense, Dropout\n",
        "from google.colab import drive\n",
        "from keras.callbacks import ModelCheckpoint, Callback\n",
        "import numpy as np\n",
        "from sklearn.metrics import f1_score\n",
        "\n",
        "class F1ScoreCallback(Callback):\n",
        "    def __init__(self, X_val, y_val):\n",
        "        super(F1ScoreCallback, self).__init__()\n",
        "        self.X_val = X_val\n",
        "        self.y_val = y_val\n",
        "        self.f1_scores = []\n",
        "\n",
        "    def on_epoch_end(self, epoch, logs={}):\n",
        "        y_pred = self.model.predict(self.X_val)\n",
        "        y_pred = np.argmax(y_pred, axis=1)\n",
        "        y_true = np.argmax(self.y_val, axis=1)\n",
        "        f1 = f1_score(y_true, y_pred, average='macro')\n",
        "        print(\"F1 score: {:.4f}\".format(f1))\n",
        "        self.f1_scores.append(f1)\n",
        "\n",
        "checkpoint_path = \"/model-{epoch:02d}-{val_accuracy:.2f}.hdf5\"\n",
        "checkpoint = ModelCheckpoint(checkpoint_path, monitor='val_accuracy', verbose=1, save_best_only=True, mode='max', save_freq='epoch')\n",
        "\n",
        "data = pd.read_csv('/bbc-text.csv')\n",
        "\n",
        "labels = pd.Categorical(data['category']).codes\n",
        "\n",
        "one_hot_labels = to_categorical(labels)\n",
        "\n",
        "data = pd.concat([data.drop('category', axis=1), pd.DataFrame(one_hot_labels)], axis=1)\n",
        "\n",
        "tokenizer = Tokenizer()\n",
        "tokenizer.fit_on_texts(data['text'].astype(str))\n",
        "sequences = tokenizer.texts_to_sequences(data['text'].astype(str))\n",
        "\n",
        "vocab_size = len(tokenizer.word_index) + 1\n",
        "\n",
        "max_len = 2457\n",
        "padded_sequences = pad_sequences(sequences, maxlen=max_len, padding='post')\n",
        "\n",
        "X_train, X_test, y_train, y_test = train_test_split(padded_sequences, one_hot_labels, test_size=0.2, random_state=42)\n",
        "\n",
        "f1score_callback = F1ScoreCallback(X_test, y_test)\n",
        "import seaborn as sns\n",
        "from sklearn.metrics import confusion_matrix"
      ]
    },
    {
      "cell_type": "code",
      "execution_count": 33,
      "metadata": {
        "id": "Wfw8V_gTz_W0"
      },
      "outputs": [],
      "source": [
        "import tensorflow as tf\n",
        "\n",
        "def focal_loss(gamma=2., alpha=4.):\n",
        "\n",
        "    gamma = float(gamma)\n",
        "    alpha = float(alpha)\n",
        "\n",
        "    def focal_loss_fixed(y_true, y_pred):\n",
        "        epsilon = 1.e-9\n",
        "        y_true = tf.convert_to_tensor(y_true, tf.float32)\n",
        "        y_pred = tf.convert_to_tensor(y_pred, tf.float32)\n",
        "\n",
        "        model_out = tf.add(y_pred, epsilon)\n",
        "        ce = tf.multiply(y_true, -tf.math.log(model_out))\n",
        "        weight = tf.multiply(y_true, tf.pow(tf.subtract(1., model_out), gamma))\n",
        "        fl = tf.multiply(alpha, tf.multiply(weight, ce))\n",
        "        reduced_fl = tf.reduce_max(fl, axis=1)\n",
        "        return tf.reduce_mean(reduced_fl)\n",
        "    return focal_loss_fixed"
      ]
    },
    {
      "cell_type": "code",
      "execution_count": 22,
      "metadata": {
        "colab": {
          "base_uri": "https://localhost:8080/",
          "height": 1000
        },
        "id": "FWAlbzMZyt04",
        "outputId": "74624e12-458e-421b-ad7e-89c7ed999836"
      },
      "outputs": [
        {
          "name": "stdout",
          "output_type": "stream",
          "text": [
            "Epoch 1/10\n",
            "14/14 [==============================] - 11s 804ms/step\n",
            "F1 score: 0.1499\n",
            "13/13 [==============================] - 66s 5s/step - loss: 1.5936 - accuracy: 0.2628 - val_loss: 1.5567 - val_accuracy: 0.3708\n",
            "Epoch 2/10\n",
            "14/14 [==============================] - 13s 918ms/step\n",
            "F1 score: 0.2432\n",
            "13/13 [==============================] - 72s 6s/step - loss: 1.5629 - accuracy: 0.3396 - val_loss: 1.5131 - val_accuracy: 0.4326\n",
            "Epoch 3/10\n",
            "14/14 [==============================] - 13s 919ms/step\n",
            "F1 score: 0.2785\n",
            "13/13 [==============================] - 77s 6s/step - loss: 1.5333 - accuracy: 0.3951 - val_loss: 1.4816 - val_accuracy: 0.4944\n",
            "Epoch 4/10\n",
            "14/14 [==============================] - 13s 921ms/step\n",
            "F1 score: 0.3049\n",
            "13/13 [==============================] - 78s 6s/step - loss: 1.5052 - accuracy: 0.4345 - val_loss: 1.4637 - val_accuracy: 0.5112\n",
            "Epoch 5/10\n",
            "14/14 [==============================] - 13s 921ms/step\n",
            "F1 score: 0.2816\n",
            "13/13 [==============================] - 72s 6s/step - loss: 1.4860 - accuracy: 0.4625 - val_loss: 1.4362 - val_accuracy: 0.5056\n",
            "Epoch 6/10\n",
            "14/14 [==============================] - 13s 917ms/step\n",
            "F1 score: 0.3078\n",
            "13/13 [==============================] - 72s 6s/step - loss: 1.4611 - accuracy: 0.4788 - val_loss: 1.4137 - val_accuracy: 0.5281\n",
            "Epoch 7/10\n",
            "14/14 [==============================] - 12s 877ms/step\n",
            "F1 score: 0.3303\n",
            "13/13 [==============================] - 73s 6s/step - loss: 1.4416 - accuracy: 0.4838 - val_loss: 1.3976 - val_accuracy: 0.5506\n",
            "Epoch 8/10\n",
            "14/14 [==============================] - 13s 916ms/step\n",
            "F1 score: 0.3314\n",
            "13/13 [==============================] - 69s 5s/step - loss: 1.4266 - accuracy: 0.4969 - val_loss: 1.3840 - val_accuracy: 0.5562\n",
            "Epoch 9/10\n",
            "14/14 [==============================] - 13s 921ms/step\n",
            "F1 score: 0.3409\n",
            "13/13 [==============================] - 64s 5s/step - loss: 1.4089 - accuracy: 0.5012 - val_loss: 1.3691 - val_accuracy: 0.5618\n",
            "Epoch 10/10\n",
            "14/14 [==============================] - 13s 916ms/step\n",
            "F1 score: 0.3459\n",
            "13/13 [==============================] - 77s 6s/step - loss: 1.3935 - accuracy: 0.5087 - val_loss: 1.3483 - val_accuracy: 0.5506\n",
            "14/14 [==============================] - 13s 925ms/step - loss: 1.4189 - accuracy: 0.4652\n",
            "Test loss: 1.4189082384109497\n",
            "Test accuracy: 0.4651685357093811\n",
            "14/14 [==============================] - 12s 862ms/step\n"
          ]
        },
        {
          "data": {
            "image/png": "[encoded data removed]",
            "text/plain": [
              "<Figure size 640x480 with 2 Axes>"
            ]
          },
          "metadata": {},
          "output_type": "display_data"
        }
      ],
      "source": [
        "from tensorflow import keras\n",
        "from keras.utils import custom_object_scope\n",
        "\n",
        "with custom_object_scope({'focal_loss_fixed': focal_loss()}):\n",
        "  loaded_model = keras.models.load_model('/model.hdf5')\n",
        "\n",
        "  for layer in loaded_model.layers[:-2]:\n",
        "      layer.trainable = False\n",
        "\n",
        "\n",
        "  from tensorflow.keras import layers\n",
        "\n",
        "  d = layers.Dense(20, activation='softmax')(loaded_model.layers[-2].output)\n",
        "\n",
        "  output_layer = layers.Dense(5, activation='softmax')(d)\n",
        "\n",
        "  model = keras.models.Model(inputs=loaded_model.inputs, outputs=output_layer)\n",
        "\n",
        "  model.compile(optimizer=keras.optimizers.Adam(), loss='categorical_crossentropy', metrics=['accuracy'])\n",
        "\n",
        "  model.fit(X_train, y_train, epochs=10, batch_size=128, validation_split=0.1, callbacks=[f1score_callback])\n",
        "\n",
        "  loss, accuracy = model.evaluate(X_test, y_test)\n",
        "  print('Test loss:', loss)\n",
        "  print('Test accuracy:', accuracy)\n",
        "\n",
        "  y_pred = model.predict(X_test)\n",
        "\n",
        "  y_pred_labels = np.argmax(y_pred, axis=1)\n",
        "  y_true_labels = np.argmax(y_test, axis=1)\n",
        "\n",
        "  cm = confusion_matrix(y_true_labels, y_pred_labels)\n",
        "  df=pd.DataFrame(cm,index=[i for i in range(5)],columns=[i for i in range(5)])\n",
        "\n",
        "  sns.heatmap(df,annot=True)"
      ]
    },
    {
      "cell_type": "code",
      "execution_count": null,
      "metadata": {
        "colab": {
          "base_uri": "https://localhost:8080/",
          "height": 1000
        },
        "id": "5TJ938Hi3n9B",
        "outputId": "848ada8f-fd1c-4cba-c340-99949a14757a"
      },
      "outputs": [],
      "source": [
        "from keras.layers import Dense, Dropout, Embedding, Conv1D, GlobalMaxPooling1D, concatenate, Input\n",
        "from tensorflow.keras.models import Model\n",
        "\n",
        "input = Input(shape=(max_len,)) \n",
        "embedding = Embedding(input_dim=vocab_size, output_dim=128, input_length=max_len)(input) \n",
        "\n",
        "c1 = Conv1D(100,3,padding='same',activation='relu',strides=1)(embedding)\n",
        "c2 = Conv1D(100,5,padding='same',activation='relu',strides=1)(embedding)\n",
        "c3 = Conv1D(100,10,padding='same',activation='relu',strides=1)(embedding)\n",
        "\n",
        "c = concatenate([c1, c2, c3])\n",
        "\n",
        "p = GlobalMaxPooling1D()(c)\n",
        "\n",
        "d = Dense(units=128, activation='relu')(p)\n",
        "\n",
        "output = Dense(units=y_train.shape[1], activation='softmax')(d)\n",
        "\n",
        "model = Model(inputs=input, outputs=output)\n",
        "\n",
        "model.compile(optimizer='adam', loss=focal_loss(gamma=2., alpha=10.), metrics=['accuracy'])\n",
        "model.summary()\n",
        "\n",
        "model.fit(X_train, y_train, epochs=10, batch_size=128, validation_split=0.1, callbacks=[f1score_callback])\n",
        "\n",
        "loss, accuracy = model.evaluate(X_test, y_test)\n",
        "print('Test loss:', loss)\n",
        "print('Test accuracy:', accuracy)\n",
        "\n",
        "y_pred = model.predict(X_test)\n",
        "\n",
        "y_pred_labels = np.argmax(y_pred, axis=1)\n",
        "y_true_labels = np.argmax(y_test, axis=1)\n",
        "\n",
        "cm = confusion_matrix(y_true_labels, y_pred_labels)\n",
        "df=pd.DataFrame(cm,index=[i for i in range(5)],columns=[i for i in range(5)])\n",
        "\n",
        "sns.heatmap(df,annot=True)"
      ]
    },
    {
      "cell_type": "code",
      "execution_count": null,
      "metadata": {
        "colab": {
          "base_uri": "https://localhost:8080/",
          "height": 419
        },
        "id": "IiT7DOuxHURl",
        "outputId": "15173a59-bfae-4611-8568-86cd1a9d4860"
      },
      "outputs": [],
      "source": [
        "from sklearn.svm import SVC\n",
        "from keras.models import Sequential\n",
        "from keras.layers import Dense\n",
        "import joblib\n",
        "\n",
        "svm_model_loaded = joblib.load('/content/drive/MyDrive/svm_model.pkl')\n",
        "\n",
        "data = pd.read_csv('/bbc-text.csv')\n",
        "\n",
        "from sklearn.feature_extraction.text import TfidfVectorizer\n",
        "from sklearn.svm import SVC\n",
        "from sklearn.model_selection import train_test_split\n",
        "\n",
        "X_train, X_test, y_train, y_test = train_test_split(data['text'], data['category'], test_size=0.1, random_state=42)\n",
        "\n",
        "vectorizer = TfidfVectorizer(max_features=160155)\n",
        "X_train = vectorizer.fit_transform(X_train)\n",
        "X_test = vectorizer.transform(X_test)\n",
        "\n",
        "X_train_svm = svm_model_loaded.decision_function(X_train)\n",
        "X_test_svm = svm_model_loaded.decision_function(X_test)\n",
        "\n",
        "model = Sequential()\n",
        "model.add(Dense(64, input_dim=X_train_svm.shape[1], activation='relu'))\n",
        "model.add(Dense(5, activation='softmax'))\n",
        "model.compile(loss='categorical_crossentropy', optimizer='adam', metrics=['accuracy'])\n",
        "model.summary()\n",
        "model.fit(X_train_svm, y_train, epochs=10, batch_size=128, validation_data=(X_test_svm, y_test), callbacks=[f1score_callback])\n",
        "\n",
        "score = model.evaluate(X_test_svm, y_test, verbose=0)\n",
        "print('Test loss:', score[0])\n",
        "print('Test accuracy:', score[1])\n",
        "\n"
      ]
    }
  ],
  "metadata": {
    "colab": {
      "provenance": []
    },
    "gpuClass": "standard",
    "kernelspec": {
      "display_name": "Python 3",
      "name": "python3"
    },
    "language_info": {
      "name": "python"
    }
  },
  "nbformat": 4,
  "nbformat_minor": 0
}
