{
  "cells": [
    {
      "cell_type": "code",
      "execution_count": null,
      "metadata": {
        "colab": {
          "base_uri": "https://localhost:8080/"
        },
        "id": "-OoOhLvg3eyh",
        "outputId": "a0b87cfd-d0a5-4d73-bdb5-726ea55a08ae"
      },
      "outputs": [],
      "source": [
        "import pandas as pd\n",
        "from keras.preprocessing.text import Tokenizer\n",
        "from tensorflow.keras.preprocessing.sequence import pad_sequences\n",
        "from keras.utils import to_categorical\n",
        "from sklearn.model_selection import train_test_split\n",
        "from keras.models import Sequential\n",
        "from keras.layers import Embedding, LSTM, Dense, Dropout\n",
        "from google.colab import drive\n",
        "from keras.callbacks import ModelCheckpoint, Callback\n",
        "import numpy as np\n",
        "from sklearn.metrics import f1_score\n",
        "\n",
        "class F1ScoreCallback(Callback):\n",
        "    def __init__(self, X_val, y_val):\n",
        "        super(F1ScoreCallback, self).__init__()\n",
        "        self.X_val = X_val\n",
        "        self.y_val = y_val\n",
        "        self.f1_scores = []\n",
        "\n",
        "    def on_epoch_end(self, epoch, logs={}):\n",
        "        y_pred = self.model.predict(self.X_val)\n",
        "        y_pred = np.argmax(y_pred, axis=1)\n",
        "        y_true = np.argmax(self.y_val, axis=1)\n",
        "        f1 = f1_score(y_true, y_pred, average='macro')\n",
        "        print(\"F1 score: {:.4f}\".format(f1))\n",
        "        self.f1_scores.append(f1)\n",
        "\n",
        "\n",
        "data = pd.read_csv('/with_title_data.csv')\n",
        "\n",
        "labels = pd.Categorical(data['sectionName']).codes\n",
        "\n",
        "one_hot_labels = to_categorical(labels)\n",
        "\n",
        "data = pd.concat([data.drop('sectionName', axis=1), pd.DataFrame(one_hot_labels)], axis=1)\n",
        "\n",
        "tokenizer = Tokenizer()\n",
        "tokenizer.fit_on_texts(data['bodyContent'].astype(str))\n",
        "sequences = tokenizer.texts_to_sequences(data['bodyContent'].astype(str))\n",
        "\n",
        "vocab_size = len(tokenizer.word_index) + 1\n",
        "\n",
        "max_len = (max([len(x) for x in sequences]) + min([len(x) for x in sequences]))//2\n",
        "padded_sequences = pad_sequences(sequences, maxlen=max_len, padding='post')\n",
        "\n",
        "X_train, X_test, y_train, y_test = train_test_split(padded_sequences, one_hot_labels, test_size=0.2, random_state=42)\n",
        "\n",
        "f1score_callback = F1ScoreCallback(X_test, y_test)\n",
        "import seaborn as sns\n",
        "from sklearn.metrics import confusion_matrix\n"
      ]
    },
    {
      "cell_type": "code",
      "execution_count": null,
      "metadata": {
        "colab": {
          "base_uri": "https://localhost:8080/",
          "height": 1000
        },
        "id": "IGTmUwETeGXv",
        "outputId": "c0451ff4-4df5-4e66-f81b-7afe3d181e01"
      },
      "outputs": [],
      "source": [
        "\n",
        "model = Sequential()\n",
        "model.add(Embedding(input_dim=vocab_size, output_dim=128, input_length=max_len))\n",
        "model.add(LSTM(units=64))\n",
        "model.add(Dropout(0.5))\n",
        "model.add(Dense(units=128, activation='relu'))\n",
        "model.add(Dense(units=y_train.shape[1], activation='softmax'))\n",
        "\n",
        "model.compile(optimizer='adam', loss='categorical_crossentropy', metrics=['accuracy'])\n",
        "model.summary()\n",
        "\n",
        "model.fit(X_train, y_train, epochs=5, batch_size=128, validation_split=0.1, callbacks=[f1score_callback])\n",
        "\n",
        "loss, accuracy = model.evaluate(X_test, y_test)\n",
        "print('Test loss:', loss)\n",
        "print('Test accuracy:', accuracy)\n",
        "\n",
        "y_pred = model.predict(X_test)\n",
        "\n",
        "y_pred_labels = np.argmax(y_pred, axis=1)\n",
        "y_true_labels = np.argmax(y_test, axis=1)\n",
        "\n",
        "print(y_pred_labels)\n",
        "\n",
        "cm = confusion_matrix(y_true_labels, y_pred_labels)\n",
        "df=pd.DataFrame(cm,index=[i for i in range(56)],columns=[i for i in range(56)])\n",
        "\n",
        "sns.heatmap(df,annot=False)"
      ]
    },
    {
      "cell_type": "code",
      "execution_count": null,
      "metadata": {
        "colab": {
          "base_uri": "https://localhost:8080/",
          "height": 1000
        },
        "id": "EVI7i8EOiX9p",
        "outputId": "c01b5636-25ae-4c68-9fe7-84e1129aa112"
      },
      "outputs": [],
      "source": [
        "import tensorflow as tf\n",
        "\n",
        "def focal_loss(gamma=2., alpha=4.):\n",
        "\n",
        "    gamma = float(gamma)\n",
        "    alpha = float(alpha)\n",
        "\n",
        "    def focal_loss_fixed(y_true, y_pred):\n",
        "        epsilon = 1.e-9\n",
        "        y_true = tf.convert_to_tensor(y_true, tf.float32)\n",
        "        y_pred = tf.convert_to_tensor(y_pred, tf.float32)\n",
        "\n",
        "        model_out = tf.add(y_pred, epsilon)\n",
        "        ce = tf.multiply(y_true, -tf.math.log(model_out))\n",
        "        weight = tf.multiply(y_true, tf.pow(tf.subtract(1., model_out), gamma))\n",
        "        fl = tf.multiply(alpha, tf.multiply(weight, ce))\n",
        "        reduced_fl = tf.reduce_max(fl, axis=1)\n",
        "        return tf.reduce_mean(reduced_fl)\n",
        "    return focal_loss_fixed\n",
        "\n",
        "model = Sequential()\n",
        "model.add(Embedding(input_dim=vocab_size, output_dim=128, input_length=max_len))\n",
        "model.add(LSTM(units=64))\n",
        "model.add(Dropout(0.5))\n",
        "model.add(Dense(units=128, activation='relu'))\n",
        "model.add(Dense(units=y_train.shape[1], activation='softmax'))\n",
        "\n",
        "model.compile(optimizer='adam', loss=focal_loss(), metrics=['accuracy'])\n",
        "model.summary()\n",
        "\n",
        "model.fit(X_train, y_train, epochs=5, batch_size=128, validation_split=0.1, callbacks=[f1score_callback])\n",
        "\n",
        "loss, accuracy = model.evaluate(X_test, y_test)\n",
        "print('Test loss:', loss)\n",
        "print('Test accuracy:', accuracy)\n",
        "\n",
        "y_pred = model.predict(X_test)\n",
        "\n",
        "y_pred_labels = np.argmax(y_pred, axis=1)\n",
        "y_true_labels = np.argmax(y_test, axis=1)\n",
        "\n",
        "cm = confusion_matrix(y_true_labels, y_pred_labels)\n",
        "df=pd.DataFrame(cm,index=[i for i in range(56)],columns=[i for i in range(56)])\n",
        "\n",
        "sns.heatmap(df,annot=False)"
      ]
    },
    {
      "cell_type": "code",
      "execution_count": null,
      "metadata": {
        "colab": {
          "base_uri": "https://localhost:8080/"
        },
        "id": "602Qs6ZGAM24",
        "outputId": "8ded55c9-c0b3-47dc-f89d-b352e1fb5789"
      },
      "outputs": [],
      "source": [
        "\n",
        "model = Sequential()\n",
        "model.add(Embedding(input_dim=vocab_size, output_dim=128, input_length=max_len))\n",
        "model.add(LSTM(units=64,return_sequences=True))\n",
        "model.add(Dropout(0.5))\n",
        "model.add(LSTM(units=64,return_sequences=True))\n",
        "model.add(Dropout(0.5))\n",
        "model.add(LSTM(units=64))\n",
        "model.add(Dropout(0.5))\n",
        "model.add(Dense(units=128, activation='relu'))\n",
        "model.add(Dense(units=y_train.shape[1], activation='softmax'))\n",
        "\n",
        "model.compile(optimizer='adam', loss='categorical_crossentropy', metrics=['accuracy'])\n",
        "\n",
        "model.fit(X_train, y_train, epochs=5, batch_size=128, validation_split=0.1, callbacks=[f1score_callback])\n",
        "\n",
        "loss, accuracy = model.evaluate(X_test, y_test)\n",
        "print('Test loss:', loss)\n",
        "print('Test accuracy:', accuracy)"
      ]
    },
    {
      "cell_type": "code",
      "execution_count": null,
      "metadata": {
        "colab": {
          "base_uri": "https://localhost:8080/"
        },
        "id": "u4yEmDZQb-qr",
        "outputId": "bd970b0a-1d86-4dfc-9207-7e150050f82a"
      },
      "outputs": [],
      "source": [
        "from keras.layers import SimpleRNN\n",
        "model = Sequential()\n",
        "model.add(Embedding(input_dim=vocab_size, output_dim=128, input_length=max_len))\n",
        "model.add(SimpleRNN(units=64))\n",
        "model.add(Dense(units=128, activation='relu'))\n",
        "model.add(Dense(units=y_train.shape[1], activation='softmax'))\n",
        "\n",
        "model.compile(optimizer='adam', loss='categorical_crossentropy', metrics=['accuracy'])\n",
        "model.summary()\n",
        "\n",
        "model.fit(X_train, y_train, epochs=5, batch_size=128, validation_split=0.1)\n",
        "\n",
        "loss, accuracy = model.evaluate(X_test, y_test)\n",
        "print('Test loss:', loss)\n",
        "print('Test accuracy:', accuracy)"
      ]
    },
    {
      "cell_type": "code",
      "execution_count": null,
      "metadata": {
        "colab": {
          "base_uri": "https://localhost:8080/",
          "height": 1000
        },
        "id": "o0CED2TAB-Bm",
        "outputId": "e3cbfb9c-485b-4b12-9e39-efa88598de0f"
      },
      "outputs": [],
      "source": [
        "import tensorflow_hub as hub\n",
        "import tensorflow as tf\n",
        "\n",
        "print(\"loading embedding\")\n",
        "embed = hub.load(\"https://tfhub.dev/google/tf2-preview/gnews-swivel-20dim/1\")\n",
        "hub_layer = hub.KerasLayer(\"https://tfhub.dev/google/tf2-preview/gnews-swivel-20dim/1\", output_shape=[20], input_shape=[], dtype=tf.string)\n",
        "\n",
        "X_train, X_test, y_train, y_test = train_test_split(data['bodyContent'].astype(str), one_hot_labels, test_size=0.2, random_state=42)\n",
        "\n",
        "f1score_callback = F1ScoreCallback(X_test, y_test)\n",
        "import seaborn as sns\n",
        "from sklearn.metrics import confusion_matrix\n",
        "\n",
        "model = Sequential()\n",
        "model.add(hub_layer)\n",
        "model.add(Dense(units=128, activation='relu'))\n",
        "model.add(Dense(units=y_train.shape[1], activation='softmax'))\n",
        "\n",
        "model.compile(optimizer='adam', loss='categorical_crossentropy', metrics=['accuracy'])\n",
        "model.summary()\n",
        "\n",
        "model.fit(X_train, y_train, epochs=5, batch_size=128, validation_split=0.1, callbacks=[f1score_callback])\n",
        "\n",
        "loss, accuracy = model.evaluate(X_test, y_test)\n",
        "print('Test loss:', loss)\n",
        "print('Test accuracy:', accuracy)\n",
        "\n",
        "y_pred = model.predict(X_test)\n",
        "\n",
        "y_pred_labels = np.argmax(y_pred, axis=1)\n",
        "y_true_labels = np.argmax(y_test, axis=1)\n",
        "\n",
        "print(y_pred_labels)\n",
        "\n",
        "cm = confusion_matrix(y_true_labels, y_pred_labels)\n",
        "df=pd.DataFrame(cm,index=[i for i in range(56)],columns=[i for i in range(56)])\n",
        "\n",
        "sns.heatmap(df,annot=False)"
      ]
    },
    {
      "cell_type": "code",
      "execution_count": null,
      "metadata": {
        "colab": {
          "base_uri": "https://localhost:8080/",
          "height": 1000
        },
        "id": "-7BaeBXkQs6v",
        "outputId": "94f2d9e4-c155-414f-e8b4-0dc4cff3283a"
      },
      "outputs": [
        {
          "name": "stdout",
          "output_type": "stream",
          "text": [
            "Model: \"sequential_18\"\n",
            "_________________________________________________________________\n",
            " Layer (type)                Output Shape              Param #   \n",
            "=================================================================\n",
            " embedding_6 (Embedding)     (None, 2457, 128)         28855296  \n",
            "                                                                 \n",
            " conv1d_1 (Conv1D)           (None, 2455, 25)          9625      \n",
            "                                                                 \n",
            " global_max_pooling1d_1 (Glo  (None, 25)               0         \n",
            " balMaxPooling1D)                                                \n",
            "                                                                 \n",
            " dense_24 (Dense)            (None, 128)               3328      \n",
            "                                                                 \n",
            " dense_25 (Dense)            (None, 77)                9933      \n",
            "                                                                 \n",
            "=================================================================\n",
            "Total params: 28,878,182\n",
            "Trainable params: 28,878,182\n",
            "Non-trainable params: 0\n",
            "_________________________________________________________________\n",
            "Epoch 1/5\n",
            "84/84 [==============================] - ETA: 0s - loss: 3.5743 - accuracy: 0.0962\n",
            "Epoch 1: val_accuracy improved from 0.10924 to 0.17479, saving model to /content/drive/MyDrive/checkpoints/weights-improvement-01-0.17.hdf5\n",
            "93/93 [==============================] - 0s 4ms/step\n",
            "F1 score: 0.0170\n",
            "84/84 [==============================] - 23s 254ms/step - loss: 3.5743 - accuracy: 0.0962 - val_loss: 3.1037 - val_accuracy: 0.1748\n",
            "Epoch 2/5\n",
            "84/84 [==============================] - ETA: 0s - loss: 2.6730 - accuracy: 0.3044\n",
            "Epoch 2: val_accuracy improved from 0.17479 to 0.37731, saving model to /content/drive/MyDrive/checkpoints/weights-improvement-02-0.38.hdf5\n",
            "93/93 [==============================] - 0s 4ms/step\n",
            "F1 score: 0.1026\n",
            "84/84 [==============================] - 25s 297ms/step - loss: 2.6730 - accuracy: 0.3044 - val_loss: 2.4375 - val_accuracy: 0.3773\n",
            "Epoch 3/5\n",
            "84/84 [==============================] - ETA: 0s - loss: 1.9854 - accuracy: 0.5002\n",
            "Epoch 3: val_accuracy improved from 0.37731 to 0.43950, saving model to /content/drive/MyDrive/checkpoints/weights-improvement-03-0.44.hdf5\n",
            "93/93 [==============================] - 0s 4ms/step\n",
            "F1 score: 0.1396\n",
            "84/84 [==============================] - 22s 258ms/step - loss: 1.9854 - accuracy: 0.5002 - val_loss: 2.1366 - val_accuracy: 0.4395\n",
            "Epoch 4/5\n",
            "84/84 [==============================] - ETA: 0s - loss: 1.3819 - accuracy: 0.6569\n",
            "Epoch 4: val_accuracy improved from 0.43950 to 0.47143, saving model to /content/drive/MyDrive/checkpoints/weights-improvement-04-0.47.hdf5\n",
            "93/93 [==============================] - 0s 4ms/step\n",
            "F1 score: 0.1660\n",
            "84/84 [==============================] - 19s 229ms/step - loss: 1.3819 - accuracy: 0.6569 - val_loss: 2.0622 - val_accuracy: 0.4714\n",
            "Epoch 5/5\n",
            "84/84 [==============================] - ETA: 0s - loss: 0.8070 - accuracy: 0.8230\n",
            "Epoch 5: val_accuracy improved from 0.47143 to 0.48151, saving model to /content/drive/MyDrive/checkpoints/weights-improvement-05-0.48.hdf5\n",
            "93/93 [==============================] - 0s 4ms/step\n",
            "F1 score: 0.1848\n",
            "84/84 [==============================] - 21s 251ms/step - loss: 0.8070 - accuracy: 0.8230 - val_loss: 2.1104 - val_accuracy: 0.4815\n",
            "93/93 [==============================] - 0s 5ms/step - loss: 2.0177 - accuracy: 0.4780\n",
            "Test loss: 2.0177242755889893\n",
            "Test accuracy: 0.4779832065105438\n",
            "93/93 [==============================] - 0s 3ms/step\n"
          ]
        },
        {
          "data": {
            "text/plain": [
              "<Axes: >"
            ]
          },
          "execution_count": 30,
          "metadata": {},
          "output_type": "execute_result"
        },
        {
          "data": {
            "image/png": "[encoded data removed]",
            "text/plain": [
              "<Figure size 640x480 with 2 Axes>"
            ]
          },
          "metadata": {},
          "output_type": "display_data"
        }
      ],
      "source": [
        "from keras.layers import Dense, Dropout, Embedding, Conv1D, GlobalMaxPooling1D\n",
        "\n",
        "f1score_callback = F1ScoreCallback(X_test, y_test)\n",
        "import seaborn as sns\n",
        "from sklearn.metrics import confusion_matrix\n",
        "\n",
        "model = Sequential()\n",
        "model.add(Embedding(input_dim=vocab_size, output_dim=128, input_length=max_len))\n",
        "model.add(Conv1D(25,3,padding='valid',activation='relu',strides=1))\n",
        "model.add(GlobalMaxPooling1D())\n",
        "model.add(Dense(units=128, activation='relu'))\n",
        "model.add(Dense(units=y_train.shape[1], activation='softmax'))\n",
        "\n",
        "model.compile(optimizer='adam', loss='categorical_crossentropy', metrics=['accuracy'])\n",
        "model.summary()\n",
        "\n",
        "model.fit(X_train, y_train, epochs=5, batch_size=128, validation_split=0.1, callbacks=[checkpoint,f1score_callback])\n",
        "\n",
        "loss, accuracy = model.evaluate(X_test, y_test)\n",
        "print('Test loss:', loss)\n",
        "print('Test accuracy:', accuracy)\n",
        "\n",
        "y_pred = model.predict(X_test)\n",
        "\n",
        "y_pred_labels = np.argmax(y_pred, axis=1)\n",
        "y_true_labels = np.argmax(y_test, axis=1)\n",
        "\n",
        "cm = confusion_matrix(y_true_labels, y_pred_labels)\n",
        "df=pd.DataFrame(cm,index=[i for i in range(56)],columns=[i for i in range(56)])\n",
        "\n",
        "sns.heatmap(df,annot=False)"
      ]
    },
    {
      "cell_type": "code",
      "execution_count": null,
      "metadata": {
        "colab": {
          "base_uri": "https://localhost:8080/",
          "height": 1000
        },
        "id": "ua8Yx7Q-YpyZ",
        "outputId": "b9b86529-7975-48b0-aa5f-1fafa5b58cf0"
      },
      "outputs": [
        {
          "name": "stdout",
          "output_type": "stream",
          "text": [
            "Model: \"sequential_20\"\n",
            "_________________________________________________________________\n",
            " Layer (type)                Output Shape              Param #   \n",
            "=================================================================\n",
            " embedding_8 (Embedding)     (None, 50, 128)           28855296  \n",
            "                                                                 \n",
            " lstm_8 (LSTM)               (None, 64)                49408     \n",
            "                                                                 \n",
            " dropout_8 (Dropout)         (None, 64)                0         \n",
            "                                                                 \n",
            " dense_28 (Dense)            (None, 128)               8320      \n",
            "                                                                 \n",
            " dense_29 (Dense)            (None, 77)                9933      \n",
            "                                                                 \n",
            "=================================================================\n",
            "Total params: 28,922,957\n",
            "Trainable params: 28,922,957\n",
            "Non-trainable params: 0\n",
            "_________________________________________________________________\n",
            "Epoch 1/5\n",
            "84/84 [==============================] - 18s 186ms/step - loss: 3.5770 - accuracy: 0.0895 - val_loss: 3.2845 - val_accuracy: 0.1235\n",
            "Epoch 2/5\n",
            "84/84 [==============================] - 11s 125ms/step - loss: 3.2037 - accuracy: 0.1221 - val_loss: 2.9948 - val_accuracy: 0.1723\n",
            "Epoch 3/5\n",
            "84/84 [==============================] - 9s 109ms/step - loss: 2.6084 - accuracy: 0.2556 - val_loss: 2.5732 - val_accuracy: 0.2992\n",
            "Epoch 4/5\n",
            "84/84 [==============================] - 8s 100ms/step - loss: 1.8956 - accuracy: 0.4374 - val_loss: 2.6473 - val_accuracy: 0.3202\n",
            "Epoch 5/5\n",
            "84/84 [==============================] - 5s 63ms/step - loss: 1.3214 - accuracy: 0.6120 - val_loss: 2.8822 - val_accuracy: 0.3714\n",
            "93/93 [==============================] - 0s 4ms/step - loss: 2.8649 - accuracy: 0.3711\n",
            "Test loss: 2.864922523498535\n",
            "Test accuracy: 0.37109243869781494\n",
            "93/93 [==============================] - 1s 3ms/step\n",
            "[59 19  2 ... 75  2 75]\n"
          ]
        },
        {
          "data": {
            "text/plain": [
              "<Axes: >"
            ]
          },
          "execution_count": 32,
          "metadata": {},
          "output_type": "execute_result"
        },
        {
          "data": {
            "image/png": "[encoded data removed]",
            "text/plain": [
              "<Figure size 640x480 with 2 Axes>"
            ]
          },
          "metadata": {},
          "output_type": "display_data"
        }
      ],
      "source": [
        "\n",
        "max_len = 50\n",
        "padded_sequences = pad_sequences(sequences, maxlen=max_len, padding='post')\n",
        "\n",
        "X_train, X_test, y_train, y_test = train_test_split(padded_sequences, one_hot_labels, test_size=0.2, random_state=42)\n",
        "\n",
        "model = Sequential()\n",
        "model.add(Embedding(input_dim=vocab_size, output_dim=128, input_length=max_len))\n",
        "model.add(LSTM(units=64))\n",
        "model.add(Dropout(0.5))\n",
        "model.add(Dense(units=128, activation='relu'))\n",
        "model.add(Dense(units=y_train.shape[1], activation='softmax'))\n",
        "\n",
        "model.compile(optimizer='adam', loss='categorical_crossentropy', metrics=['accuracy'])\n",
        "model.summary()\n",
        "\n",
        "model.fit(X_train, y_train, epochs=5, batch_size=128, validation_split=0.1)\n",
        "\n",
        "loss, accuracy = model.evaluate(X_test, y_test)\n",
        "print('Test loss:', loss)\n",
        "print('Test accuracy:', accuracy)\n",
        "\n",
        "y_pred = model.predict(X_test)\n",
        "\n",
        "y_pred_labels = np.argmax(y_pred, axis=1)\n",
        "y_true_labels = np.argmax(y_test, axis=1)\n",
        "\n",
        "print(y_pred_labels)\n",
        "\n",
        "cm = confusion_matrix(y_true_labels, y_pred_labels)\n",
        "df=pd.DataFrame(cm,index=[i for i in range(56)],columns=[i for i in range(56)])\n",
        "\n",
        "sns.heatmap(df,annot=False)"
      ]
    },
    {
      "cell_type": "code",
      "execution_count": null,
      "metadata": {
        "colab": {
          "base_uri": "https://localhost:8080/",
          "height": 1000
        },
        "id": "zLINeRnsaQwf",
        "outputId": "3d794135-651a-4370-d6be-87f7d2e42e43"
      },
      "outputs": [
        {
          "name": "stdout",
          "output_type": "stream",
          "text": [
            "Model: \"sequential_21\"\n",
            "_________________________________________________________________\n",
            " Layer (type)                Output Shape              Param #   \n",
            "=================================================================\n",
            " embedding_9 (Embedding)     (None, 50, 128)           28855296  \n",
            "                                                                 \n",
            " simple_rnn_1 (SimpleRNN)    (None, 64)                12352     \n",
            "                                                                 \n",
            " dense_30 (Dense)            (None, 128)               8320      \n",
            "                                                                 \n",
            " dense_31 (Dense)            (None, 77)                9933      \n",
            "                                                                 \n",
            "=================================================================\n",
            "Total params: 28,885,901\n",
            "Trainable params: 28,885,901\n",
            "Non-trainable params: 0\n",
            "_________________________________________________________________\n",
            "Epoch 1/5\n",
            "84/84 [==============================] - 21s 226ms/step - loss: 3.4886 - accuracy: 0.0898 - val_loss: 3.2844 - val_accuracy: 0.1092\n",
            "Epoch 2/5\n",
            "84/84 [==============================] - 14s 167ms/step - loss: 3.0650 - accuracy: 0.1730 - val_loss: 2.9785 - val_accuracy: 0.2109\n",
            "Epoch 3/5\n",
            "84/84 [==============================] - 12s 145ms/step - loss: 1.9367 - accuracy: 0.5074 - val_loss: 3.1770 - val_accuracy: 0.2143\n",
            "Epoch 4/5\n",
            "84/84 [==============================] - 8s 97ms/step - loss: 0.7356 - accuracy: 0.8405 - val_loss: 3.9170 - val_accuracy: 0.1866\n",
            "Epoch 5/5\n",
            "84/84 [==============================] - 10s 116ms/step - loss: 0.2523 - accuracy: 0.9544 - val_loss: 4.5563 - val_accuracy: 0.1882\n",
            "93/93 [==============================] - 1s 10ms/step - loss: 4.4320 - accuracy: 0.2077\n",
            "Test loss: 4.4319963455200195\n",
            "Test accuracy: 0.20773109793663025\n",
            "93/93 [==============================] - 1s 9ms/step\n",
            "[75 19 17 ... 75  2 75]\n"
          ]
        },
        {
          "data": {
            "text/plain": [
              "<Axes: >"
            ]
          },
          "execution_count": 33,
          "metadata": {},
          "output_type": "execute_result"
        },
        {
          "data": {
            "image/png": "[encoded data removed]",
            "text/plain": [
              "<Figure size 640x480 with 2 Axes>"
            ]
          },
          "metadata": {},
          "output_type": "display_data"
        }
      ],
      "source": [
        "max_len = 50\n",
        "padded_sequences = pad_sequences(sequences, maxlen=max_len, padding='post')\n",
        "\n",
        "X_train, X_test, y_train, y_test = train_test_split(padded_sequences, one_hot_labels, test_size=0.2, random_state=42)\n",
        "\n",
        "from keras.layers import SimpleRNN\n",
        "model = Sequential()\n",
        "model.add(Embedding(input_dim=vocab_size, output_dim=128, input_length=max_len))\n",
        "model.add(SimpleRNN(units=64))\n",
        "model.add(Dense(units=128, activation='relu'))\n",
        "model.add(Dense(units=y_train.shape[1], activation='softmax'))\n",
        "\n",
        "model.compile(optimizer='adam', loss='categorical_crossentropy', metrics=['accuracy'])\n",
        "model.summary()\n",
        "\n",
        "model.fit(X_train, y_train, epochs=5, batch_size=128, validation_split=0.1)\n",
        "\n",
        "loss, accuracy = model.evaluate(X_test, y_test)\n",
        "print('Test loss:', loss)\n",
        "print('Test accuracy:', accuracy)\n",
        "\n",
        "y_pred = model.predict(X_test)\n",
        "\n",
        "y_pred_labels = np.argmax(y_pred, axis=1)\n",
        "y_true_labels = np.argmax(y_test, axis=1)\n",
        "\n",
        "print(y_pred_labels)\n",
        "\n",
        "cm = confusion_matrix(y_true_labels, y_pred_labels)\n",
        "df=pd.DataFrame(cm,index=[i for i in range(56)],columns=[i for i in range(56)])\n",
        "\n",
        "sns.heatmap(df,annot=False)"
      ]
    },
    {
      "cell_type": "code",
      "execution_count": null,
      "metadata": {
        "colab": {
          "base_uri": "https://localhost:8080/",
          "height": 1000
        },
        "id": "rUuJBrydbmDM",
        "outputId": "93d7f402-075f-493a-d379-13fbf6823243"
      },
      "outputs": [],
      "source": [
        "max_len = 100\n",
        "padded_sequences = pad_sequences(sequences, maxlen=max_len, padding='post')\n",
        "\n",
        "X_train, X_test, y_train, y_test = train_test_split(padded_sequences, one_hot_labels, test_size=0.2, random_state=42)\n",
        "\n",
        "model = Sequential()\n",
        "model.add(Embedding(input_dim=vocab_size, output_dim=128, input_length=max_len))\n",
        "model.add(LSTM(units=64,return_sequences=True))\n",
        "model.add(Dropout(0.5))\n",
        "model.add(LSTM(units=64,return_sequences=True))\n",
        "model.add(Dropout(0.5))\n",
        "model.add(LSTM(units=64))\n",
        "model.add(Dropout(0.5))\n",
        "model.add(Dense(units=128, activation='relu'))\n",
        "model.add(Dense(units=y_train.shape[1], activation='softmax'))\n",
        "\n",
        "model.compile(optimizer='adam', loss='categorical_crossentropy', metrics=['accuracy'])\n",
        "model.summary()\n",
        "\n",
        "model.fit(X_train, y_train, epochs=15, batch_size=128, validation_split=0.1)\n",
        "\n",
        "loss, accuracy = model.evaluate(X_test, y_test)\n",
        "print('Test loss:', loss)\n",
        "print('Test accuracy:', accuracy)\n",
        "\n",
        "y_pred = model.predict(X_test)\n",
        "\n",
        "y_pred_labels = np.argmax(y_pred, axis=1)\n",
        "y_true_labels = np.argmax(y_test, axis=1)\n",
        "\n",
        "print(y_pred_labels)\n",
        "\n",
        "cm = confusion_matrix(y_true_labels, y_pred_labels)\n",
        "df=pd.DataFrame(cm,index=[i for i in range(56)],columns=[i for i in range(56)])\n",
        "\n",
        "sns.heatmap(df,annot=False)\n"
      ]
    },
    {
      "cell_type": "code",
      "execution_count": null,
      "metadata": {
        "colab": {
          "base_uri": "https://localhost:8080/",
          "height": 1000
        },
        "id": "L0U2wmi0RXjj",
        "outputId": "383c1382-988e-42ec-f700-f7750bbceda0"
      },
      "outputs": [],
      "source": [
        "from keras.layers import Dense, Dropout, Embedding, Conv1D, GlobalMaxPooling1D, concatenate, Input\n",
        "from tensorflow.keras.models import Model\n",
        "\n",
        "input = Input(shape=(max_len,))\n",
        "embedding = Embedding(input_dim=vocab_size, output_dim=128, input_length=max_len)(input) \n",
        "\n",
        "c1 = Conv1D(100,3,padding='same',activation='relu',strides=1)(embedding)\n",
        "c2 = Conv1D(100,5,padding='same',activation='relu',strides=1)(embedding)\n",
        "c3 = Conv1D(100,10,padding='same',activation='relu',strides=1)(embedding)\n",
        "\n",
        "c = concatenate([c1, c2, c3])\n",
        "\n",
        "p = GlobalMaxPooling1D()(c)\n",
        "\n",
        "d = Dense(units=128, activation='relu')(p)\n",
        "\n",
        "output = Dense(units=y_train.shape[1], activation='softmax')(d)\n",
        "\n",
        "model = Model(inputs=input, outputs=output)\n",
        "\n",
        "model.compile(optimizer='adam', loss='categorical_crossentropy', metrics=['accuracy'])\n",
        "model.summary()\n",
        "\n",
        "model.fit(X_train, y_train, epochs=5, batch_size=128, validation_split=0.1)\n",
        "\n",
        "loss, accuracy = model.evaluate(X_test, y_test)\n",
        "print('Test loss:', loss)\n",
        "print('Test accuracy:', accuracy)\n",
        "\n",
        "y_pred = model.predict(X_test)\n",
        "\n",
        "y_pred_labels = np.argmax(y_pred, axis=1)\n",
        "y_true_labels = np.argmax(y_test, axis=1)\n",
        "\n",
        "cm = confusion_matrix(y_true_labels, y_pred_labels)\n",
        "df=pd.DataFrame(cm,index=[i for i in range(56)],columns=[i for i in range(56)])\n",
        "\n",
        "sns.heatmap(df,annot=False)"
      ]
    },
    {
      "cell_type": "code",
      "execution_count": 3,
      "metadata": {
        "colab": {
          "base_uri": "https://localhost:8080/",
          "height": 1000
        },
        "id": "qLCXp_E8svOW",
        "outputId": "53eae2c1-285d-47c2-f4a1-84336e67ebcd"
      },
      "outputs": [
        {
          "name": "stdout",
          "output_type": "stream",
          "text": [
            "loading embedding\n",
            "Model: \"sequential\"\n",
            "_________________________________________________________________\n",
            " Layer (type)                Output Shape              Param #   \n",
            "=================================================================\n",
            " keras_layer (KerasLayer)    (None, 512)               256797824 \n",
            "                                                                 \n",
            " dense (Dense)               (None, 128)               65664     \n",
            "                                                                 \n",
            " dense_1 (Dense)             (None, 77)                9933      \n",
            "                                                                 \n",
            "=================================================================\n",
            "Total params: 256,873,421\n",
            "Trainable params: 75,597\n",
            "Non-trainable params: 256,797,824\n",
            "_________________________________________________________________\n",
            "Epoch 1/5\n",
            "84/84 [==============================] - ETA: 0s - loss: 3.3998 - accuracy: 0.1963\n",
            "Epoch 1: val_accuracy improved from -inf to 0.29748, saving model to /content/drive/MyDrive/checkpoints/weights-improvement-01-0.30.hdf5\n",
            "93/93 [==============================] - 7s 67ms/step\n",
            "F1 score: 0.0630\n",
            "84/84 [==============================] - 49s 470ms/step - loss: 3.3998 - accuracy: 0.1963 - val_loss: 2.8530 - val_accuracy: 0.2975\n",
            "Epoch 2/5\n",
            "84/84 [==============================] - ETA: 0s - loss: 2.5724 - accuracy: 0.3517\n",
            "Epoch 2: val_accuracy improved from 0.29748 to 0.40168, saving model to /content/drive/MyDrive/checkpoints/weights-improvement-02-0.40.hdf5\n",
            "93/93 [==============================] - 5s 49ms/step\n",
            "F1 score: 0.1186\n",
            "84/84 [==============================] - 46s 553ms/step - loss: 2.5724 - accuracy: 0.3517 - val_loss: 2.3624 - val_accuracy: 0.4017\n",
            "Epoch 3/5\n",
            "84/84 [==============================] - ETA: 0s - loss: 2.1600 - accuracy: 0.4478\n",
            "Epoch 3: val_accuracy improved from 0.40168 to 0.45042, saving model to /content/drive/MyDrive/checkpoints/weights-improvement-03-0.45.hdf5\n",
            "93/93 [==============================] - 5s 58ms/step\n",
            "F1 score: 0.1514\n",
            "84/84 [==============================] - 43s 511ms/step - loss: 2.1600 - accuracy: 0.4478 - val_loss: 2.0700 - val_accuracy: 0.4504\n",
            "Epoch 4/5\n",
            "84/84 [==============================] - ETA: 0s - loss: 1.9060 - accuracy: 0.4996\n",
            "Epoch 4: val_accuracy improved from 0.45042 to 0.48571, saving model to /content/drive/MyDrive/checkpoints/weights-improvement-04-0.49.hdf5\n",
            "93/93 [==============================] - 5s 58ms/step\n",
            "F1 score: 0.1787\n",
            "84/84 [==============================] - 41s 495ms/step - loss: 1.9060 - accuracy: 0.4996 - val_loss: 1.8972 - val_accuracy: 0.4857\n",
            "Epoch 5/5\n",
            "84/84 [==============================] - ETA: 0s - loss: 1.7399 - accuracy: 0.5326\n",
            "Epoch 5: val_accuracy improved from 0.48571 to 0.52773, saving model to /content/drive/MyDrive/checkpoints/weights-improvement-05-0.53.hdf5\n",
            "93/93 [==============================] - 5s 55ms/step\n",
            "F1 score: 0.2115\n",
            "84/84 [==============================] - 37s 442ms/step - loss: 1.7399 - accuracy: 0.5326 - val_loss: 1.7862 - val_accuracy: 0.5277\n",
            "93/93 [==============================] - 5s 50ms/step - loss: 1.7584 - accuracy: 0.5247\n",
            "Test loss: 1.7583867311477661\n",
            "Test accuracy: 0.5247058868408203\n",
            "93/93 [==============================] - 6s 68ms/step\n",
            "[59 19  2 ... 75  2 50]\n"
          ]
        },
        {
          "data": {
            "text/plain": [
              "<Axes: >"
            ]
          },
          "execution_count": 3,
          "metadata": {},
          "output_type": "execute_result"
        },
        {
          "data": {
            "image/png": "[encoded data removed]",
            "text/plain": [
              "<Figure size 640x480 with 2 Axes>"
            ]
          },
          "metadata": {},
          "output_type": "display_data"
        }
      ],
      "source": [
        "import tensorflow_hub as hub\n",
        "import tensorflow as tf\n",
        "\n",
        "module_url = \"https://tfhub.dev/google/universal-sentence-encoder/4\"\n",
        "print(\"loading embedding\")\n",
        "embed = hub.load(module_url)\n",
        "hub_layer = hub.KerasLayer(module_url, output_shape=[512], input_shape=[], dtype=tf.string)\n",
        "\n",
        "X_train, X_test, y_train, y_test = train_test_split(data['bodyContent'].astype(str), one_hot_labels, test_size=0.2, random_state=42)\n",
        "\n",
        "f1score_callback = F1ScoreCallback(X_test, y_test)\n",
        "import seaborn as sns\n",
        "from sklearn.metrics import confusion_matrix\n",
        "\n",
        "model = Sequential()\n",
        "model.add(hub_layer)\n",
        "model.add(Dense(units=128, activation='relu'))\n",
        "model.add(Dense(units=y_train.shape[1], activation='softmax'))\n",
        "\n",
        "model.compile(optimizer='adam', loss='categorical_crossentropy', metrics=['accuracy'])\n",
        "model.summary()\n",
        "\n",
        "model.fit(X_train, y_train, epochs=5, batch_size=128, validation_split=0.1, callbacks=[checkpoint,f1score_callback])\n",
        "\n",
        "loss, accuracy = model.evaluate(X_test, y_test)\n",
        "print('Test loss:', loss)\n",
        "print('Test accuracy:', accuracy)\n",
        "\n",
        "y_pred = model.predict(X_test)\n",
        "\n",
        "y_pred_labels = np.argmax(y_pred, axis=1)\n",
        "y_true_labels = np.argmax(y_test, axis=1)\n",
        "\n",
        "print(y_pred_labels)\n",
        "\n",
        "cm = confusion_matrix(y_true_labels, y_pred_labels)\n",
        "df=pd.DataFrame(cm,index=[i for i in range(56)],columns=[i for i in range(56)])\n",
        "\n",
        "sns.heatmap(df,annot=False)"
      ]
    },
    {
      "cell_type": "code",
      "execution_count": null,
      "metadata": {
        "colab": {
          "base_uri": "https://localhost:8080/",
          "height": 1000
        },
        "id": "Q_qMkfOL15oq",
        "outputId": "847586cd-3a90-4326-b714-6fbecd65992c"
      },
      "outputs": [],
      "source": [
        "from keras.layers import Dense, Dropout, Embedding, Conv1D, GlobalMaxPooling1D, concatenate, Input, Add\n",
        "from tensorflow.keras.models import Model\n",
        "\n",
        "max_len = 100\n",
        "padded_sequences = pad_sequences(sequences, maxlen=max_len, padding='post')\n",
        "\n",
        "X_train, X_test, y_train, y_test = train_test_split(padded_sequences, one_hot_labels, test_size=0.2, random_state=42)\n",
        "\n",
        "input = Input(shape=(max_len,)) \n",
        "\n",
        "embedding = Embedding(input_dim=vocab_size, output_dim=128, input_length=max_len)(input) \n",
        "lstm1 = LSTM(units=128,return_sequences=True)(embedding)\n",
        "lstm_res1 = Add()([embedding, lstm1])\n",
        "\n",
        "\n",
        "lstm2 = LSTM(units=128,return_sequences=True)(lstm_res1)\n",
        "lstm_res2 = Add()([lstm1, lstm2])\n",
        "\n",
        "lstm3 = LSTM(units=128)(lstm_res2)\n",
        "d = Dropout(0.5)(lstm3)\n",
        "\n",
        "output = Dense(units=y_train.shape[1], activation='softmax')(d)\n",
        "\n",
        "model = Model(inputs=input, outputs=output)\n",
        "\n",
        "model.compile(optimizer='adam', loss='categorical_crossentropy', metrics=['accuracy'])\n",
        "model.summary()\n",
        "\n",
        "model.fit(X_train, y_train, epochs=15, batch_size=128, validation_split=0.1)\n",
        "\n",
        "loss, accuracy = model.evaluate(X_test, y_test)\n",
        "print('Test loss:', loss)\n",
        "print('Test accuracy:', accuracy)\n",
        "\n",
        "y_pred = model.predict(X_test)\n",
        "\n",
        "y_pred_labels = np.argmax(y_pred, axis=1)\n",
        "y_true_labels = np.argmax(y_test, axis=1)\n",
        "\n",
        "print(y_pred_labels)\n",
        "\n",
        "cm = confusion_matrix(y_true_labels, y_pred_labels)\n",
        "df=pd.DataFrame(cm,index=[i for i in range(56)],columns=[i for i in range(56)])\n",
        "\n",
        "sns.heatmap(df,annot=False)"
      ]
    },
    {
      "cell_type": "code",
      "execution_count": null,
      "metadata": {
        "colab": {
          "base_uri": "https://localhost:8080/",
          "height": 1000
        },
        "id": "uUgxveCR7oV4",
        "outputId": "66802c55-3c6b-4c9d-a9fb-9a1cf667cb2a"
      },
      "outputs": [],
      "source": [
        "\n",
        "title_sequences = tokenizer.texts_to_sequences(data['webTitle'].astype(str))\n",
        "\n",
        "vocab_size = len(tokenizer.word_index) + 1\n",
        "\n",
        "title_max_len = max([len(x) for x in title_sequences])\n",
        "title_padded_sequences = pad_sequences(title_sequences, maxlen=title_max_len, padding='post')\n",
        "\n",
        "X_train, X_test, y_train, y_test = train_test_split(title_padded_sequences, one_hot_labels, test_size=0.2, random_state=42)\n",
        "\n",
        "\n",
        "from keras.layers import Dense, Dropout, Embedding, Conv1D, GlobalMaxPooling1D\n",
        "\n",
        "f1score_callback = F1ScoreCallback(X_test, y_test)\n",
        "import seaborn as sns\n",
        "from sklearn.metrics import confusion_matrix\n",
        "\n",
        "model = Sequential()\n",
        "model.add(Embedding(input_dim=vocab_size, output_dim=128, input_length=title_max_len))\n",
        "model.add(Conv1D(25,3,padding='valid',activation='relu',strides=1))\n",
        "model.add(GlobalMaxPooling1D())\n",
        "model.add(Dense(units=128, activation='relu'))\n",
        "model.add(Dense(units=y_train.shape[1], activation='softmax'))\n",
        "\n",
        "model.compile(optimizer='adam', loss='categorical_crossentropy', metrics=['accuracy'])\n",
        "model.summary()\n",
        "\n",
        "model.fit(X_train, y_train, epochs=5, batch_size=128, validation_split=0.1, callbacks=[checkpoint,f1score_callback])\n",
        "\n",
        "loss, accuracy = model.evaluate(X_test, y_test)\n",
        "print('Test loss:', loss)\n",
        "print('Test accuracy:', accuracy)\n",
        "\n",
        "y_pred = model.predict(X_test)\n",
        "\n",
        "y_pred_labels = np.argmax(y_pred, axis=1)\n",
        "y_true_labels = np.argmax(y_test, axis=1)\n",
        "\n",
        "cm = confusion_matrix(y_true_labels, y_pred_labels)\n",
        "df=pd.DataFrame(cm,index=[i for i in range(56)],columns=[i for i in range(56)])\n",
        "\n",
        "sns.heatmap(df,annot=False)\n"
      ]
    },
    {
      "cell_type": "code",
      "execution_count": 24,
      "metadata": {
        "colab": {
          "base_uri": "https://localhost:8080/",
          "height": 1000
        },
        "id": "TRfeMvceEYL8",
        "outputId": "62db0762-1dce-4f0f-fcc7-99e9a6910897"
      },
      "outputs": [
        {
          "name": "stdout",
          "output_type": "stream",
          "text": [
            "Model: \"model_8\"\n",
            "__________________________________________________________________________________________________\n",
            " Layer (type)                   Output Shape         Param #     Connected to                     \n",
            "==================================================================================================\n",
            " input_29 (InputLayer)          [(None, 2457)]       0           []                               \n",
            "                                                                                                  \n",
            " input_30 (InputLayer)          [(None, 20)]         0           []                               \n",
            "                                                                                                  \n",
            " embedding_29 (Embedding)       (None, 2457, 128)    28855296    ['input_29[0][0]']               \n",
            "                                                                                                  \n",
            " embedding_30 (Embedding)       (None, 20, 128)      28855296    ['input_30[0][0]']               \n",
            "                                                                                                  \n",
            " conv1d_25 (Conv1D)             (None, 2455, 25)     9625        ['embedding_29[0][0]']           \n",
            "                                                                                                  \n",
            " conv1d_26 (Conv1D)             (None, 18, 25)       9625        ['embedding_30[0][0]']           \n",
            "                                                                                                  \n",
            " global_max_pooling1d_25 (Globa  (None, 25)          0           ['conv1d_25[0][0]']              \n",
            " lMaxPooling1D)                                                                                   \n",
            "                                                                                                  \n",
            " global_max_pooling1d_26 (Globa  (None, 25)          0           ['conv1d_26[0][0]']              \n",
            " lMaxPooling1D)                                                                                   \n",
            "                                                                                                  \n",
            " add_10 (Add)                   (None, 25)           0           ['global_max_pooling1d_25[0][0]',\n",
            "                                                                  'global_max_pooling1d_26[0][0]']\n",
            "                                                                                                  \n",
            " dense_20 (Dense)               (None, 128)          3328        ['add_10[0][0]']                 \n",
            "                                                                                                  \n",
            " dense_21 (Dense)               (None, 77)           9933        ['dense_20[0][0]']               \n",
            "                                                                                                  \n",
            "==================================================================================================\n",
            "Total params: 57,743,103\n",
            "Trainable params: 57,743,103\n",
            "Non-trainable params: 0\n",
            "__________________________________________________________________________________________________\n",
            "Epoch 1/5\n",
            "84/84 [==============================] - 30s 332ms/step - loss: 3.4915 - accuracy: 0.1145 - val_loss: 2.9899 - val_accuracy: 0.2126\n",
            "Epoch 2/5\n",
            "84/84 [==============================] - 22s 264ms/step - loss: 2.4813 - accuracy: 0.3553 - val_loss: 2.2645 - val_accuracy: 0.4176\n",
            "Epoch 3/5\n",
            "84/84 [==============================] - 19s 227ms/step - loss: 1.5361 - accuracy: 0.6308 - val_loss: 1.9527 - val_accuracy: 0.4933\n",
            "Epoch 4/5\n",
            "84/84 [==============================] - 18s 219ms/step - loss: 0.7271 - accuracy: 0.8434 - val_loss: 1.9376 - val_accuracy: 0.5059\n",
            "Epoch 5/5\n",
            "84/84 [==============================] - 18s 216ms/step - loss: 0.2831 - accuracy: 0.9575 - val_loss: 2.0693 - val_accuracy: 0.4992\n",
            "93/93 [==============================] - 1s 7ms/step - loss: 1.9188 - accuracy: 0.5287\n",
            "Test loss: 1.9188024997711182\n",
            "Test accuracy: 0.5287395119667053\n",
            "93/93 [==============================] - 0s 4ms/step\n"
          ]
        },
        {
          "data": {
            "text/plain": [
              "<Axes: >"
            ]
          },
          "execution_count": 24,
          "metadata": {},
          "output_type": "execute_result"
        },
        {
          "data": {
            "image/png": "[encoded data removed]",
            "text/plain": [
              "<Figure size 640x480 with 2 Axes>"
            ]
          },
          "metadata": {},
          "output_type": "display_data"
        }
      ],
      "source": [
        "\n",
        "title_sequences = tokenizer.texts_to_sequences(data['webTitle'].astype(str))\n",
        "\n",
        "vocab_size = len(tokenizer.word_index) + 1\n",
        "\n",
        "title_max_len = max([len(x) for x in title_sequences])\n",
        "title_padded_sequences = pad_sequences(title_sequences, maxlen=title_max_len, padding='post')\n",
        "\n",
        "X1_train, X1_test, X2_train, X2_test, y_train, y_test = train_test_split(padded_sequences, title_padded_sequences, one_hot_labels, test_size=0.2, random_state=42)\n",
        "\n",
        "\n",
        "from keras.layers import Dense, Dropout, Embedding, Conv1D, GlobalMaxPooling1D, Input, Add\n",
        "from tensorflow.keras.models import Model\n",
        "\n",
        "f1score_callback = F1ScoreCallback(X_test, y_test)\n",
        "import seaborn as sns\n",
        "from sklearn.metrics import confusion_matrix\n",
        "\n",
        "input_body = Input(shape=(max_len,))\n",
        "input_title = Input(shape=(title_max_len,))\n",
        "embedding1 = Embedding(input_dim=vocab_size, output_dim=128, input_length=max_len)(input_body) # 定义嵌入层\n",
        "embedding2 = Embedding(input_dim=vocab_size, output_dim=128, input_length=max_len)(input_title) # 定义嵌入层\n",
        "conv1 = Conv1D(25,3,padding='valid',activation='relu',strides=1)(embedding1)\n",
        "conv2 = Conv1D(25,3,padding='valid',activation='relu',strides=1)(embedding2)\n",
        "pool1 = GlobalMaxPooling1D()(conv1)\n",
        "pool2 = GlobalMaxPooling1D()(conv2)\n",
        "\n",
        "x = Add()([pool1, pool2])\n",
        "\n",
        "d = Dense(units=128, activation='relu')(x)\n",
        "\n",
        "output = Dense(units=y_train.shape[1], activation='softmax')(d)\n",
        "\n",
        "model = Model(inputs=[input_body,input_title], outputs=output)\n",
        "\n",
        "model.compile(optimizer='adam', loss='categorical_crossentropy', metrics=['accuracy'])\n",
        "model.summary()\n",
        "\n",
        "model.fit( [X1_train,X2_train], y_train, epochs=5, batch_size=128, validation_split=0.1)\n",
        "\n",
        "loss, accuracy = model.evaluate([X1_test,X2_test], y_test)\n",
        "print('Test loss:', loss)\n",
        "print('Test accuracy:', accuracy)\n",
        "\n",
        "y_pred = model.predict([X1_test,X2_test])\n",
        "\n",
        "y_pred_labels = np.argmax(y_pred, axis=1)\n",
        "y_true_labels = np.argmax(y_test, axis=1)\n",
        "\n",
        "cm = confusion_matrix(y_true_labels, y_pred_labels)\n",
        "df=pd.DataFrame(cm,index=[i for i in range(56)],columns=[i for i in range(56)])\n",
        "\n",
        "sns.heatmap(df,annot=False)\n"
      ]
    },
    {
      "cell_type": "code",
      "execution_count": 1,
      "metadata": {
        "colab": {
          "base_uri": "https://localhost:8080/"
        },
        "id": "-Yg-YZuVSY8g",
        "outputId": "9c8baa85-044d-480d-9a12-3cf9f739d597"
      },
      "outputs": [
        {
          "name": "stdout",
          "output_type": "stream",
          "text": [
            "Mounted at /content/drive\n"
          ]
        }
      ],
      "source": [
        "import pandas as pd\n",
        "from keras.preprocessing.text import Tokenizer\n",
        "from tensorflow.keras.preprocessing.sequence import pad_sequences\n",
        "from keras.utils import to_categorical\n",
        "from sklearn.model_selection import train_test_split\n",
        "from keras.models import Sequential\n",
        "from keras.layers import Embedding, LSTM, Dense, Dropout\n",
        "from google.colab import drive\n",
        "from keras.callbacks import ModelCheckpoint, Callback\n",
        "import numpy as np\n",
        "\n",
        "data = pd.read_csv('with_title_data.csv')\n",
        "\n",
        "from sklearn.feature_extraction.text import TfidfVectorizer\n",
        "from sklearn.svm import SVC\n",
        "from sklearn.model_selection import train_test_split\n",
        "\n",
        "data = data.dropna(subset=['bodyContent'])\n",
        "\n",
        "X_train, X_test, y_train, y_test = train_test_split(data['bodyContent'], data['sectionName'], test_size=0.1, random_state=42)\n",
        "\n",
        "vectorizer = TfidfVectorizer()\n",
        "X_train = vectorizer.fit_transform(X_train)\n",
        "X_test = vectorizer.transform(X_test)\n",
        "\n",
        "svm_model = SVC(kernel='linear')\n",
        "svm_model.fit(X_train, y_train)\n",
        "\n",
        "y_pred = svm_model.predict(X_test)\n",
        "accuracy = svm_model.score(X_test, y_test)\n"
      ]
    },
    {
      "cell_type": "code",
      "execution_count": null,
      "metadata": {
        "colab": {
          "base_uri": "https://localhost:8080/",
          "height": 848
        },
        "id": "0rGnyKrSX54Q",
        "outputId": "642f11e1-1335-4cde-bb69-2b3c52f7c088"
      },
      "outputs": [],
      "source": [
        "print('Accuracy:{}'.format(accuracy))\n",
        "\n",
        "import seaborn as sns\n",
        "from sklearn.metrics import confusion_matrix\n",
        "\n",
        "cm = confusion_matrix(y_test, y_pred)\n",
        "\n",
        "sns.heatmap(cm, annot=False, cmap='Blues', fmt='g', xticklabels=svm_model.classes_, yticklabels=svm_model.classes_)\n"
      ]
    }
  ],
  "metadata": {
    "colab": {
      "gpuType": "T4",
      "provenance": []
    },
    "gpuClass": "standard",
    "kernelspec": {
      "display_name": "Python 3",
      "name": "python3"
    },
    "language_info": {
      "name": "python"
    }
  },
  "nbformat": 4,
  "nbformat_minor": 0
}
